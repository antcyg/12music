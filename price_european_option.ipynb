{
 "cells": [
  {
   "cell_type": "code",
   "execution_count": null,
   "id": "eff8c4bd",
   "metadata": {},
   "outputs": [],
   "source": [
    "import numpy as np\n",
    "\n",
    "def price_european_option(S,K,r,q,vol,T,field='all'):\n",
    "    '''\n",
    "    S,K,vol,T: either can be numpy array\n",
    "    field can be \"price\", \"greeks\", \"all\" \n",
    "    '''\n",
    "    # 1. calculate call and put price\n",
    "    def simple_price(S,K,r,q,vol,T):\n",
    "        # return call_price, put_price\n",
    "        pass\n",
    "    \n",
    "    # 2. calculate greeks\n",
    "    def tweak(data, by):\n",
    "        # example: tweak vol by 1e-6\n",
    "        # return new vol\n",
    "        pass\n",
    "    \n",
    "    # price = ...\n",
    "    # condition on field\n",
    "    # loop to calculate greeks\n",
    "        # theta = (new_price / price) / by_size\n",
    "        # delta, gamma, vega = (new_price_up - new_price_down) / 2 / by_size\n",
    "    \n",
    "    # return in json format, including current calculate time %Y-%m-%d-%H-%M\n",
    "    # e.g. {'time':..., call_price':..., 'put_price':...}\n",
    "    pass"
   ]
  }
 ],
 "metadata": {
  "kernelspec": {
   "display_name": "Python 3 (ipykernel)",
   "language": "python",
   "name": "python3"
  },
  "language_info": {
   "codemirror_mode": {
    "name": "ipython",
    "version": 3
   },
   "file_extension": ".py",
   "mimetype": "text/x-python",
   "name": "python",
   "nbconvert_exporter": "python",
   "pygments_lexer": "ipython3",
   "version": "3.9.7"
  }
 },
 "nbformat": 4,
 "nbformat_minor": 5
}
