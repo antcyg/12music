{
 "cells": [
  {
   "cell_type": "code",
   "execution_count": 1,
   "id": "e0f5d5ad",
   "metadata": {},
   "outputs": [],
   "source": [
    "import tushare as ts\n",
    "import pandas as pd\n",
    "import numpy as np"
   ]
  },
  {
   "cell_type": "code",
   "execution_count": 2,
   "id": "29f47ea1",
   "metadata": {},
   "outputs": [],
   "source": [
    "# ts 是一个下载数据的包，token是我注册后得到的密码\n",
    "ts.set_token('d5d1c64ad8e9a27d9605cc7fae6e51ac1658cb7f301403fe89f8f463')\n",
    "pro = ts.pro_api()\n",
    "stock_basic = pro.stock_basic(exchange='', list_status='L', fields='ts_code,symbol,name,area,industry,list_date')"
   ]
  },
  {
   "cell_type": "code",
   "execution_count": 3,
   "id": "850fd39b",
   "metadata": {},
   "outputs": [],
   "source": [
    "# 手动选择10个股票\n",
    "StockList1 = ['600096','600328','000852','601118','603019','600792','300369','300188','600536','000878','600456','600683']\n",
    "StockList_basic = stock_basic[stock_basic['symbol'].apply(lambda s: s in StockList1)].reset_index(drop=True)"
   ]
  },
  {
   "cell_type": "code",
   "execution_count": 12,
   "id": "11348733",
   "metadata": {},
   "outputs": [],
   "source": [
    "Data = dict() # key: ts_code, value: DataFrame\n",
    "start_date = '20160101' #开始日期\n",
    "adj = 'qfq' #前复权\n",
    "#for ts_code in stock_basic['ts_code'].values: # 下载全部数据\n",
    "#for ts_code in StockList_basic['ts_code']: # 下载10个自选股票\n",
    "for ts_code in ['600536.SH']: # 下载指定一个\n",
    "    tmp = ts.pro_bar(ts_code=ts_code, adj=adj, start_date=start_date)\n",
    "    tmp.index = pd.to_datetime(tmp['trade_date'])\n",
    "    Data[ts_code] = tmp.sort_index(ascending=True)"
   ]
  },
  {
   "cell_type": "code",
   "execution_count": 13,
   "id": "f67e6e9a",
   "metadata": {},
   "outputs": [
    {
     "data": {
      "text/html": [
       "<div>\n",
       "<style scoped>\n",
       "    .dataframe tbody tr th:only-of-type {\n",
       "        vertical-align: middle;\n",
       "    }\n",
       "\n",
       "    .dataframe tbody tr th {\n",
       "        vertical-align: top;\n",
       "    }\n",
       "\n",
       "    .dataframe thead th {\n",
       "        text-align: right;\n",
       "    }\n",
       "</style>\n",
       "<table border=\"1\" class=\"dataframe\">\n",
       "  <thead>\n",
       "    <tr style=\"text-align: right;\">\n",
       "      <th></th>\n",
       "      <th>ts_code</th>\n",
       "      <th>name</th>\n",
       "    </tr>\n",
       "  </thead>\n",
       "  <tbody>\n",
       "    <tr>\n",
       "      <th>0</th>\n",
       "      <td>000852.SZ</td>\n",
       "      <td>石化机械</td>\n",
       "    </tr>\n",
       "    <tr>\n",
       "      <th>1</th>\n",
       "      <td>000878.SZ</td>\n",
       "      <td>云南铜业</td>\n",
       "    </tr>\n",
       "    <tr>\n",
       "      <th>2</th>\n",
       "      <td>300188.SZ</td>\n",
       "      <td>美亚柏科</td>\n",
       "    </tr>\n",
       "    <tr>\n",
       "      <th>3</th>\n",
       "      <td>300369.SZ</td>\n",
       "      <td>绿盟科技</td>\n",
       "    </tr>\n",
       "    <tr>\n",
       "      <th>4</th>\n",
       "      <td>600096.SH</td>\n",
       "      <td>云天化</td>\n",
       "    </tr>\n",
       "    <tr>\n",
       "      <th>5</th>\n",
       "      <td>600328.SH</td>\n",
       "      <td>中盐化工</td>\n",
       "    </tr>\n",
       "    <tr>\n",
       "      <th>6</th>\n",
       "      <td>600456.SH</td>\n",
       "      <td>宝钛股份</td>\n",
       "    </tr>\n",
       "    <tr>\n",
       "      <th>7</th>\n",
       "      <td>600536.SH</td>\n",
       "      <td>中国软件</td>\n",
       "    </tr>\n",
       "    <tr>\n",
       "      <th>8</th>\n",
       "      <td>600683.SH</td>\n",
       "      <td>京投发展</td>\n",
       "    </tr>\n",
       "    <tr>\n",
       "      <th>9</th>\n",
       "      <td>600792.SH</td>\n",
       "      <td>云煤能源</td>\n",
       "    </tr>\n",
       "    <tr>\n",
       "      <th>10</th>\n",
       "      <td>601118.SH</td>\n",
       "      <td>海南橡胶</td>\n",
       "    </tr>\n",
       "    <tr>\n",
       "      <th>11</th>\n",
       "      <td>603019.SH</td>\n",
       "      <td>中科曙光</td>\n",
       "    </tr>\n",
       "  </tbody>\n",
       "</table>\n",
       "</div>"
      ],
      "text/plain": [
       "      ts_code  name\n",
       "0   000852.SZ  石化机械\n",
       "1   000878.SZ  云南铜业\n",
       "2   300188.SZ  美亚柏科\n",
       "3   300369.SZ  绿盟科技\n",
       "4   600096.SH   云天化\n",
       "5   600328.SH  中盐化工\n",
       "6   600456.SH  宝钛股份\n",
       "7   600536.SH  中国软件\n",
       "8   600683.SH  京投发展\n",
       "9   600792.SH  云煤能源\n",
       "10  601118.SH  海南橡胶\n",
       "11  603019.SH  中科曙光"
      ]
     },
     "execution_count": 13,
     "metadata": {},
     "output_type": "execute_result"
    }
   ],
   "source": [
    "StockList_basic[['ts_code','name']]"
   ]
  },
  {
   "cell_type": "code",
   "execution_count": 14,
   "id": "ab0ca804",
   "metadata": {
    "scrolled": true
   },
   "outputs": [
    {
     "name": "stdout",
     "output_type": "stream",
     "text": [
      "              ts_code trade_date     open     high      low    close  \\\n",
      "trade_date                                                             \n",
      "2016-01-04  600536.SH   20160104  35.6403  35.7294  32.1455  32.1455   \n",
      "2016-01-05  600536.SH   20160105  30.4922  32.9475  29.7002  31.1258   \n",
      "2016-01-06  600536.SH   20160106  31.3535  31.9277  30.6110  31.8584   \n",
      "2016-01-07  600536.SH   20160107  30.9179  30.9179  28.6706  28.6706   \n",
      "2016-01-08  600536.SH   20160108  29.0072  29.7002  26.6807  28.1360   \n",
      "2016-01-11  600536.SH   20160111  27.2846  28.5122  25.3244  25.3244   \n",
      "2016-01-12  600536.SH   20160112  25.3442  25.9382  23.4632  24.6809   \n",
      "2016-01-13  600536.SH   20160113  24.7799  25.3937  23.4632  23.6018   \n",
      "2016-01-14  600536.SH   20160114  22.5227  24.8888  22.4930  24.6215   \n",
      "2016-01-15  600536.SH   20160115  24.2552  24.5423  22.7702  23.1365   \n",
      "\n",
      "            pre_close  change  pct_chg        vol      amount  \n",
      "trade_date                                                     \n",
      "2016-01-04    35.7195 -3.5740 -10.0057  111046.97  375596.282  \n",
      "2016-01-05    32.1455 -1.0197  -3.1721  141100.27  446081.997  \n",
      "2016-01-06    31.1258  0.7326   2.3537  121595.47  386034.565  \n",
      "2016-01-07    31.8584 -3.1878 -10.0062   24421.00   72945.881  \n",
      "2016-01-08    28.6706 -0.5346  -1.8646  118992.86  341458.551  \n",
      "2016-01-11    28.1360 -2.8116  -9.9929  112606.53  304180.964  \n",
      "2016-01-12    25.3244 -0.6435  -2.5410  127430.00  318558.035  \n",
      "2016-01-13    24.6809 -1.0791  -4.3722  105217.22  262209.888  \n",
      "2016-01-14    23.6018  1.0197   4.3204  110281.21  266468.088  \n",
      "2016-01-15    24.6215 -1.4850  -6.0313  125474.79  299174.434  \n"
     ]
    }
   ],
   "source": [
    "df = Data['600536.SH'].copy()\n",
    "print(df.head(10))"
   ]
  },
  {
   "cell_type": "code",
   "execution_count": 15,
   "id": "c73b3f5e",
   "metadata": {},
   "outputs": [
    {
     "name": "stdout",
     "output_type": "stream",
     "text": [
      "              ts_code trade_date     open     high      low    close  \\\n",
      "trade_date                                                             \n",
      "2016-02-01  600536.SH   20160201  21.9683  22.2257  20.7704  21.4634   \n",
      "2016-02-02  600536.SH   20160202  21.2852  23.1266  21.2852  22.6514   \n",
      "2016-02-03  600536.SH   20160203  22.0376  22.7504  21.6911  22.6019   \n",
      "2016-02-04  600536.SH   20160204  22.6514  23.6117  22.6118  23.0375   \n",
      "2016-02-05  600536.SH   20160205  23.2157  23.2652  22.6910  22.7504   \n",
      "\n",
      "            pre_close  change  pct_chg        vol      amount    N1_HI  \\\n",
      "trade_date                                                               \n",
      "2016-02-01    22.2653 -0.8019  -3.6016   96008.95  208779.087  35.7294   \n",
      "2016-02-02    21.4634  1.1880   5.5350  113107.44  257532.677  32.9475   \n",
      "2016-02-03    22.6514 -0.0495  -0.2185   71134.33  158923.951  31.9277   \n",
      "2016-02-04    22.6019  0.4356   1.9273   93715.94  219429.269  30.9179   \n",
      "2016-02-05    23.0375 -0.2871  -1.2462   65234.07  151314.290  29.7002   \n",
      "\n",
      "              N1_LO     TR1     TR2     TR3      TR       ATR  \n",
      "trade_date                                                     \n",
      "2016-02-01  20.4932  1.4553  0.0396  1.4949  1.4949  1.950300  \n",
      "2016-02-02  20.4932  1.8414  1.6632  0.1782  1.8414  1.943936  \n",
      "2016-02-03  20.4932  1.0593  0.0990  0.9603  1.0593  1.848471  \n",
      "2016-02-04  20.4932  0.9999  1.0098  0.0099  1.0098  1.788364  \n",
      "2016-02-05  20.4932  0.5742  0.2277  0.3465  0.5742  1.684414  \n"
     ]
    }
   ],
   "source": [
    "# 数据库层面\n",
    "\n",
    "N1 = 20\n",
    "N2 = 10\n",
    "N_ATR = 14\n",
    "win_factor = 3.5\n",
    "loss_factor = 1.0\n",
    "# 唐奇安通道\n",
    "df['N1_HI'] = df.high.shift(1).rolling(N1).max() # 要shift(1),因为做决策是今天开盘以前，参考值是昨天为止的N1天最高价的最大值\n",
    "df['N1_LO'] = df.low.shift(1).rolling(N2).min()\n",
    "# ATR\n",
    "df['TR1'] = df['high'] - df['low'] # 今日最高价 - 今日最低价\n",
    "df['TR2'] = abs(df['high'] - df['close'].shift(1)) # abs（今天最高价 - 昨日收盘价）\n",
    "df['TR3'] = abs(df['close'].shift(1) - df['low']) # abs （昨日收盘价 - 今日最低价） \n",
    "df['TR'] = np.maximum(np.maximum(df['TR1'],df['TR2']),df['TR3'])\n",
    "df['ATR'] = df['TR'].rolling(window=N_ATR).mean()\n",
    "\n",
    "df.dropna(inplace=True) # 因为要算过去若干天的数据，前面若干天没法算\n",
    "print(df.head(5))"
   ]
  },
  {
   "cell_type": "code",
   "execution_count": 16,
   "id": "a7405bc5",
   "metadata": {},
   "outputs": [],
   "source": [
    "# global：在Strategy模块的最开始，用于存储、记录信息\n",
    "signal = 0\n",
    "Position = list()\n",
    "cost = 0\n",
    "Cash = list()\n",
    "Value_close = list()\n",
    "BuyTrade = list()\n",
    "SellTrade = list()\n",
    "\n",
    "Position.append(0)\n",
    "Cash.append(20000) # 每一个股票，起始资金20000 （即1/10）\n",
    "Value_close.append(0)"
   ]
  },
  {
   "cell_type": "code",
   "execution_count": 17,
   "id": "70684ca8",
   "metadata": {},
   "outputs": [],
   "source": [
    "# LOOP\n",
    "# time moves by\n",
    "for today, sub in df.iterrows():\n",
    "    # portfolio in the morning, i.e. only sub.open available\n",
    "    # 现在只做看涨，不做空\n",
    "    if (signal == 1) & (Position[-1] == 0): # 开盘前的信号为购买，且现在空仓\n",
    "        Position.append(int(Cash[-1] / sub.open / 100) * 100)\n",
    "        Cash.append(Cash[-1] - Position[-1]*sub.open)\n",
    "        cost = sub.open\n",
    "        BuyTrade.append((today, sub.open, Position[-1]))\n",
    "    elif (signal == -1) & (Position[-1] > 0):\n",
    "        SellTrade.append((today, sub.open, Position[-1]))\n",
    "        Cash.append(Cash[-1] + Position[-1] * sub.open)\n",
    "        Position.append(0)\n",
    "        cost = 0\n",
    "    else:\n",
    "        Position.append(Position[-1])\n",
    "        Cash.append(Cash[-1])\n",
    "\n",
    "    #print('Position', Position[-1])\n",
    "    #print('Cash', Cash[-1])\n",
    "\n",
    "    # 到了下午 when market closes\n",
    "    Value_close.append(Position[-1] * sub.close)\n",
    "    #print('Value',Value_close[-1])\n",
    "\n",
    "    # 闭市后即第二天开盘前\n",
    "    # strategy\n",
    "    if sub.close > sub.N1_HI:\n",
    "        signal = 1\n",
    "    elif sub.close < sub.N1_LO:\n",
    "        signal = -1\n",
    "    else: signal = 0\n",
    "\n",
    "    if Position[-1] != 0:\n",
    "        if win_factor * sub.ATR < (sub.close - cost):\n",
    "            signal = -1\n",
    "        elif loss_factor * sub.ATR < (cost - sub.close):\n",
    "            signal = -1\n",
    "    #print('signal for tomorrow', signal)"
   ]
  },
  {
   "cell_type": "code",
   "execution_count": 18,
   "id": "455df754",
   "metadata": {},
   "outputs": [
    {
     "name": "stdout",
     "output_type": "stream",
     "text": [
      "win 10 times, avg return is 20.44%\n",
      "lose 15 times, avg return is -5.46%\n"
     ]
    }
   ],
   "source": [
    "# 如果到回测结束还没有卖出的话，卖出记录少一条，假设以最后一天收盘价卖出）\n",
    "if len(SellTrade) < len(BuyTrade):\n",
    "    SellTrade.append((today, sub.close, Position[-1]))\n",
    "\n",
    "Result = []\n",
    "for i in range(len(BuyTrade)):\n",
    "    buytime = BuyTrade[i][0]\n",
    "    BuyPrice = BuyTrade[i][1]\n",
    "    pos1 = BuyTrade[i][2]\n",
    "    selltime = SellTrade[i][0]\n",
    "    SellPrice = SellTrade[i][1]\n",
    "    pos2 = SellTrade[i][2]\n",
    "    Result.append([buytime,selltime,BuyPrice,SellPrice, pos1,pos2])\n",
    "    \n",
    "Result = pd.DataFrame(Result, columns=['buytime','selltime','BuyPrice','SellPrice','pos1','pos2'])\n",
    "Result['DiffPrice'] = Result['SellPrice'] - Result['BuyPrice']\n",
    "Result['Pct'] = Result['DiffPrice'] / Result['BuyPrice']\n",
    "\n",
    "win_count = sum(Result['Pct'] >= 0)\n",
    "loss_count = sum(Result['Pct'] < 0)\n",
    "win_ret = np.mean(Result[Result['Pct'] >= 0]['Pct'])\n",
    "loss_ret = np.mean(Result[Result['Pct'] < 0]['Pct'])\n",
    "\n",
    "print('win {win_count} times, avg return is {ret}%'.format(win_count=win_count, ret=round(win_ret,4)*100))\n",
    "print('lose {loss_count} times, avg return is {ret}%'.format(loss_count=loss_count, ret=round(loss_ret,4)*100))"
   ]
  },
  {
   "cell_type": "code",
   "execution_count": 19,
   "id": "765e2a7a",
   "metadata": {},
   "outputs": [
    {
     "data": {
      "text/plain": [
       "<AxesSubplot:xlabel='trade_date'>"
      ]
     },
     "execution_count": 19,
     "metadata": {},
     "output_type": "execute_result"
    },
    {
     "data": {
      "image/png": "[encoded data removed]",
      "text/plain": [
       "<Figure size 432x288 with 1 Axes>"
      ]
     },
     "metadata": {
      "needs_background": "light"
     },
     "output_type": "display_data"
    }
   ],
   "source": [
    "pd.Series(np.array(Value_close)[1:] + np.array(Cash)[1:], index=df.index).plot()"
   ]
  },
  {
   "cell_type": "markdown",
   "id": "edc38305",
   "metadata": {},
   "source": [
    "## 提醒"
   ]
  },
  {
   "cell_type": "markdown",
   "id": "47f3026a",
   "metadata": {},
   "source": [
    "（1）不一定对。。最好把每一步捋一遍\n",
    "（2）先避免使用面对对象编程，用函数解决问题，效率第一\n",
    "（3）思考如何模块化，假如分为DATA, STRATEGY, PORTFOLIO 怎样分工，如何传输信息"
   ]
  },
  {
   "cell_type": "markdown",
   "id": "9d1a02e3",
   "metadata": {},
   "source": [
    "## 任务"
   ]
  },
  {
   "cell_type": "markdown",
   "id": "bba0ed32",
   "metadata": {},
   "source": [
    "（1）函数封装，做完10个自选股，统计结果（赢多少次，平均赚多少；输多少次，平均亏多少）\n",
    "（2）这10个自选股是在每一天更新数据，所以需要增加一张总表，记录资产总值每天的绝对值和变化量\n",
    "（3）计算10个小资产组合（每个资产组合只有一个资产，只是在择时）相互之间的相关性\n",
    "（4）在10个自选股中挑选表现平常的一个，优化参数\n",
    "（5）思考一个策略的比较基准是啥"
   ]
  }
 ],
 "metadata": {
  "kernelspec": {
   "display_name": "Python 3 (ipykernel)",
   "language": "python",
   "name": "python3"
  },
  "language_info": {
   "codemirror_mode": {
    "name": "ipython",
    "version": 3
   },
   "file_extension": ".py",
   "mimetype": "text/x-python",
   "name": "python",
   "nbconvert_exporter": "python",
   "pygments_lexer": "ipython3",
   "version": "3.9.5"
  }
 },
 "nbformat": 4,
 "nbformat_minor": 5
}
