{
 "cells": [
  {
   "cell_type": "markdown",
   "id": "58c671fc",
   "metadata": {},
   "source": [
    "## 1.3.1 欧式期权MC估算函数"
   ]
  },
  {
   "cell_type": "code",
   "execution_count": 9,
   "id": "386e433b",
   "metadata": {},
   "outputs": [],
   "source": [
    "import math\n",
    "import numpy as np"
   ]
  },
  {
   "cell_type": "code",
   "execution_count": 10,
   "id": "39f4e080",
   "metadata": {},
   "outputs": [],
   "source": [
    "S0 = 100.\n",
    "K = 105.\n",
    "T = 1.0\n",
    "r = 0.05\n",
    "sigma = 0.2"
   ]
  },
  {
   "cell_type": "code",
   "execution_count": 11,
   "id": "6f99a671",
   "metadata": {},
   "outputs": [],
   "source": [
    "I = 1000000"
   ]
  },
  {
   "cell_type": "code",
   "execution_count": 12,
   "id": "874a50a1",
   "metadata": {},
   "outputs": [],
   "source": [
    "# 固定种子值\n",
    "np.random.seed(1000)"
   ]
  },
  {
   "cell_type": "code",
   "execution_count": 13,
   "id": "6a16379c",
   "metadata": {},
   "outputs": [],
   "source": [
    "# 提取标准正态分布随机数\n",
    "z = np.random.standard_normal(I)"
   ]
  },
  {
   "cell_type": "code",
   "execution_count": 14,
   "id": "0d82be50",
   "metadata": {},
   "outputs": [
    {
     "name": "stdout",
     "output_type": "stream",
     "text": [
      "8.69 ms ± 74.6 µs per loop (mean ± std. dev. of 7 runs, 100 loops each)\n"
     ]
    }
   ],
   "source": [
    "%timeit ST = S0 * np.exp((r-sigma**2/2)*T + sigma * math.sqrt(T) * z)"
   ]
  },
  {
   "cell_type": "code",
   "execution_count": 15,
   "id": "e6b6fd6f",
   "metadata": {},
   "outputs": [
    {
     "data": {
      "text/plain": [
       "8.01361463852807"
      ]
     },
     "execution_count": 15,
     "metadata": {},
     "output_type": "execute_result"
    }
   ],
   "source": [
    "ST = S0 * np.exp((r-sigma**2/2)*T + sigma * math.sqrt(T) * z)\n",
    "hT = np.maximum(ST-K,0)\n",
    "C0 = math.exp(-r*T) * np.mean(hT)\n",
    "C0"
   ]
  },
  {
   "cell_type": "markdown",
   "id": "af717248",
   "metadata": {},
   "source": [
    "#### numexpr 加速"
   ]
  },
  {
   "cell_type": "code",
   "execution_count": 16,
   "id": "66eab57a",
   "metadata": {},
   "outputs": [
    {
     "name": "stdout",
     "output_type": "stream",
     "text": [
      "7.31 ms ± 220 µs per loop (mean ± std. dev. of 7 runs, 100 loops each)\n"
     ]
    }
   ],
   "source": [
    "import numexpr as ne\n",
    "ne.set_num_threads(1)\n",
    "f = 'S0 * exp((r-sigma**2/2)*T + sigma*sqrt(T)*z)'\n",
    "%timeit ST = ne.evaluate(f)"
   ]
  },
  {
   "cell_type": "code",
   "execution_count": 17,
   "id": "7d34edc9",
   "metadata": {},
   "outputs": [
    {
     "name": "stdout",
     "output_type": "stream",
     "text": [
      "2.51 ms ± 180 µs per loop (mean ± std. dev. of 7 runs, 100 loops each)\n"
     ]
    }
   ],
   "source": [
    "ne.set_num_threads(4)\n",
    "%timeit ST = ne.evaluate(f)"
   ]
  },
  {
   "cell_type": "markdown",
   "id": "71311d0b",
   "metadata": {},
   "source": [
    "## SVC 预测简单实例"
   ]
  },
  {
   "cell_type": "code",
   "execution_count": 32,
   "id": "76517de7",
   "metadata": {},
   "outputs": [],
   "source": [
    "import pandas as pd\n",
    "data = pd.read_csv('source/tr_eikon_eod_data.csv',index_col=0, parse_dates=True)\n",
    "data = pd.DataFrame(data['AAPL.O'])"
   ]
  },
  {
   "cell_type": "code",
   "execution_count": 33,
   "id": "fd02e2e4",
   "metadata": {},
   "outputs": [],
   "source": [
    "data['Returns'] = np.log(data / data.shift()) # 计算对数收益率\n",
    "data.dropna(inplace=True)"
   ]
  },
  {
   "cell_type": "code",
   "execution_count": 34,
   "id": "b5f73b4c",
   "metadata": {},
   "outputs": [],
   "source": [
    "lags = 6\n",
    "cols=[]\n",
    "for lag in range(1, lags+1):\n",
    "    col = 'lag_{}'.format(lag)\n",
    "    data[col] = np.sign(data['Returns'].shift(lag)) # 生成滞后的对数收益率数据（定向）的DataFrame列\n",
    "    cols.append(col)\n",
    "data.dropna(inplace=True)"
   ]
  },
  {
   "cell_type": "code",
   "execution_count": 35,
   "id": "53afb147",
   "metadata": {},
   "outputs": [
    {
     "data": {
      "text/html": [
       "<div>\n",
       "<style scoped>\n",
       "    .dataframe tbody tr th:only-of-type {\n",
       "        vertical-align: middle;\n",
       "    }\n",
       "\n",
       "    .dataframe tbody tr th {\n",
       "        vertical-align: top;\n",
       "    }\n",
       "\n",
       "    .dataframe thead th {\n",
       "        text-align: right;\n",
       "    }\n",
       "</style>\n",
       "<table border=\"1\" class=\"dataframe\">\n",
       "  <thead>\n",
       "    <tr style=\"text-align: right;\">\n",
       "      <th></th>\n",
       "      <th>AAPL.O</th>\n",
       "      <th>Returns</th>\n",
       "      <th>lag_1</th>\n",
       "      <th>lag_2</th>\n",
       "      <th>lag_3</th>\n",
       "      <th>lag_4</th>\n",
       "      <th>lag_5</th>\n",
       "      <th>lag_6</th>\n",
       "    </tr>\n",
       "    <tr>\n",
       "      <th>Date</th>\n",
       "      <th></th>\n",
       "      <th></th>\n",
       "      <th></th>\n",
       "      <th></th>\n",
       "      <th></th>\n",
       "      <th></th>\n",
       "      <th></th>\n",
       "      <th></th>\n",
       "    </tr>\n",
       "  </thead>\n",
       "  <tbody>\n",
       "    <tr>\n",
       "      <th>2010-01-13</th>\n",
       "      <td>30.092827</td>\n",
       "      <td>0.014007</td>\n",
       "      <td>-1.0</td>\n",
       "      <td>-1.0</td>\n",
       "      <td>1.0</td>\n",
       "      <td>-1.0</td>\n",
       "      <td>-1.0</td>\n",
       "      <td>1.0</td>\n",
       "    </tr>\n",
       "    <tr>\n",
       "      <th>2010-01-14</th>\n",
       "      <td>29.918542</td>\n",
       "      <td>-0.005808</td>\n",
       "      <td>1.0</td>\n",
       "      <td>-1.0</td>\n",
       "      <td>-1.0</td>\n",
       "      <td>1.0</td>\n",
       "      <td>-1.0</td>\n",
       "      <td>-1.0</td>\n",
       "    </tr>\n",
       "    <tr>\n",
       "      <th>2010-01-15</th>\n",
       "      <td>29.418542</td>\n",
       "      <td>-0.016853</td>\n",
       "      <td>-1.0</td>\n",
       "      <td>1.0</td>\n",
       "      <td>-1.0</td>\n",
       "      <td>-1.0</td>\n",
       "      <td>1.0</td>\n",
       "      <td>-1.0</td>\n",
       "    </tr>\n",
       "    <tr>\n",
       "      <th>2010-01-20</th>\n",
       "      <td>30.246398</td>\n",
       "      <td>-0.015536</td>\n",
       "      <td>-1.0</td>\n",
       "      <td>-1.0</td>\n",
       "      <td>1.0</td>\n",
       "      <td>-1.0</td>\n",
       "      <td>-1.0</td>\n",
       "      <td>1.0</td>\n",
       "    </tr>\n",
       "    <tr>\n",
       "      <th>2010-01-21</th>\n",
       "      <td>29.724542</td>\n",
       "      <td>-0.017404</td>\n",
       "      <td>-1.0</td>\n",
       "      <td>-1.0</td>\n",
       "      <td>-1.0</td>\n",
       "      <td>1.0</td>\n",
       "      <td>-1.0</td>\n",
       "      <td>-1.0</td>\n",
       "    </tr>\n",
       "    <tr>\n",
       "      <th>...</th>\n",
       "      <td>...</td>\n",
       "      <td>...</td>\n",
       "      <td>...</td>\n",
       "      <td>...</td>\n",
       "      <td>...</td>\n",
       "      <td>...</td>\n",
       "      <td>...</td>\n",
       "      <td>...</td>\n",
       "    </tr>\n",
       "    <tr>\n",
       "      <th>2018-06-25</th>\n",
       "      <td>182.170000</td>\n",
       "      <td>-0.014983</td>\n",
       "      <td>-1.0</td>\n",
       "      <td>-1.0</td>\n",
       "      <td>1.0</td>\n",
       "      <td>-1.0</td>\n",
       "      <td>-1.0</td>\n",
       "      <td>-1.0</td>\n",
       "    </tr>\n",
       "    <tr>\n",
       "      <th>2018-06-26</th>\n",
       "      <td>184.430000</td>\n",
       "      <td>0.012330</td>\n",
       "      <td>-1.0</td>\n",
       "      <td>-1.0</td>\n",
       "      <td>-1.0</td>\n",
       "      <td>1.0</td>\n",
       "      <td>-1.0</td>\n",
       "      <td>-1.0</td>\n",
       "    </tr>\n",
       "    <tr>\n",
       "      <th>2018-06-27</th>\n",
       "      <td>184.160000</td>\n",
       "      <td>-0.001465</td>\n",
       "      <td>1.0</td>\n",
       "      <td>-1.0</td>\n",
       "      <td>-1.0</td>\n",
       "      <td>-1.0</td>\n",
       "      <td>1.0</td>\n",
       "      <td>-1.0</td>\n",
       "    </tr>\n",
       "    <tr>\n",
       "      <th>2018-06-28</th>\n",
       "      <td>185.500000</td>\n",
       "      <td>0.007250</td>\n",
       "      <td>-1.0</td>\n",
       "      <td>1.0</td>\n",
       "      <td>-1.0</td>\n",
       "      <td>-1.0</td>\n",
       "      <td>-1.0</td>\n",
       "      <td>1.0</td>\n",
       "    </tr>\n",
       "    <tr>\n",
       "      <th>2018-06-29</th>\n",
       "      <td>185.110000</td>\n",
       "      <td>-0.002105</td>\n",
       "      <td>1.0</td>\n",
       "      <td>-1.0</td>\n",
       "      <td>1.0</td>\n",
       "      <td>-1.0</td>\n",
       "      <td>-1.0</td>\n",
       "      <td>-1.0</td>\n",
       "    </tr>\n",
       "  </tbody>\n",
       "</table>\n",
       "<p>2055 rows × 8 columns</p>\n",
       "</div>"
      ],
      "text/plain": [
       "                AAPL.O   Returns  lag_1  lag_2  lag_3  lag_4  lag_5  lag_6\n",
       "Date                                                                      \n",
       "2010-01-13   30.092827  0.014007   -1.0   -1.0    1.0   -1.0   -1.0    1.0\n",
       "2010-01-14   29.918542 -0.005808    1.0   -1.0   -1.0    1.0   -1.0   -1.0\n",
       "2010-01-15   29.418542 -0.016853   -1.0    1.0   -1.0   -1.0    1.0   -1.0\n",
       "2010-01-20   30.246398 -0.015536   -1.0   -1.0    1.0   -1.0   -1.0    1.0\n",
       "2010-01-21   29.724542 -0.017404   -1.0   -1.0   -1.0    1.0   -1.0   -1.0\n",
       "...                ...       ...    ...    ...    ...    ...    ...    ...\n",
       "2018-06-25  182.170000 -0.014983   -1.0   -1.0    1.0   -1.0   -1.0   -1.0\n",
       "2018-06-26  184.430000  0.012330   -1.0   -1.0   -1.0    1.0   -1.0   -1.0\n",
       "2018-06-27  184.160000 -0.001465    1.0   -1.0   -1.0   -1.0    1.0   -1.0\n",
       "2018-06-28  185.500000  0.007250   -1.0    1.0   -1.0   -1.0   -1.0    1.0\n",
       "2018-06-29  185.110000 -0.002105    1.0   -1.0    1.0   -1.0   -1.0   -1.0\n",
       "\n",
       "[2055 rows x 8 columns]"
      ]
     },
     "execution_count": 35,
     "metadata": {},
     "output_type": "execute_result"
    }
   ],
   "source": [
    "data"
   ]
  },
  {
   "cell_type": "code",
   "execution_count": 37,
   "id": "f285ede9",
   "metadata": {},
   "outputs": [
    {
     "data": {
      "text/plain": [
       "<AxesSubplot:xlabel='Date'>"
      ]
     },
     "execution_count": 37,
     "metadata": {},
     "output_type": "execute_result"
    },
    {
     "data": {
      "image/png": "[encoded data removed]",
      "text/plain": [
       "<Figure size 720x432 with 1 Axes>"
      ]
     },
     "metadata": {
      "needs_background": "light"
     },
     "output_type": "display_data"
    }
   ],
   "source": [
    "# 被动投资\n",
    "data['Returns'].cumsum().apply(np.exp).plot(figsize=(10,6))"
   ]
  },
  {
   "cell_type": "code",
   "execution_count": 39,
   "id": "3b19804f",
   "metadata": {},
   "outputs": [],
   "source": [
    "# SVC\n",
    "from sklearn.svm import SVC"
   ]
  },
  {
   "cell_type": "code",
   "execution_count": 40,
   "id": "c19a13fc",
   "metadata": {},
   "outputs": [
    {
     "data": {
      "text/plain": [
       "<AxesSubplot:xlabel='Date'>"
      ]
     },
     "execution_count": 40,
     "metadata": {},
     "output_type": "execute_result"
    },
    {
     "data": {
      "image/png": "[encoded data removed]",
      "text/plain": [
       "<Figure size 720x432 with 1 Axes>"
      ]
     },
     "metadata": {
      "needs_background": "light"
     },
     "output_type": "display_data"
    }
   ],
   "source": [
    "model = SVC(gamma='auto')\n",
    "model.fit(data[cols], np.sign(data['Returns']))\n",
    "data['Prediction'] = model.predict(data[cols])\n",
    "data['Strategy'] = data['Prediction'] * data['Returns']\n",
    "data['Strategy'].cumsum().apply(np.exp).plot(figsize=(10,6))"
   ]
  },
  {
   "cell_type": "code",
   "execution_count": 43,
   "id": "534b015b",
   "metadata": {},
   "outputs": [
    {
     "data": {
      "text/plain": [
       "['lag_1', 'lag_2', 'lag_3']"
      ]
     },
     "execution_count": 43,
     "metadata": {},
     "output_type": "execute_result"
    }
   ],
   "source": [
    "cols[:3]"
   ]
  },
  {
   "cell_type": "code",
   "execution_count": 44,
   "id": "41babe3f",
   "metadata": {},
   "outputs": [
    {
     "data": {
      "text/plain": [
       "<AxesSubplot:xlabel='Date'>"
      ]
     },
     "execution_count": 44,
     "metadata": {},
     "output_type": "execute_result"
    },
    {
     "data": {
      "image/png": "[encoded data removed]",
      "text/plain": [
       "<Figure size 720x432 with 1 Axes>"
      ]
     },
     "metadata": {
      "needs_background": "light"
     },
     "output_type": "display_data"
    }
   ],
   "source": [
    "model.fit(data[cols[:3]], np.sign(data['Returns']))\n",
    "data['Prediction'] = model.predict(data[cols[:3]])\n",
    "data['Strategy'] = data['Prediction'] * data['Returns']\n",
    "data['Strategy'].cumsum().apply(np.exp).plot(figsize=(10,6))"
   ]
  }
 ],
 "metadata": {
  "kernelspec": {
   "display_name": "Python 3",
   "language": "python",
   "name": "python3"
  },
  "language_info": {
   "codemirror_mode": {
    "name": "ipython",
    "version": 3
   },
   "file_extension": ".py",
   "mimetype": "text/x-python",
   "name": "python",
   "nbconvert_exporter": "python",
   "pygments_lexer": "ipython3",
   "version": "3.8.8"
  }
 },
 "nbformat": 4,
 "nbformat_minor": 5
}
