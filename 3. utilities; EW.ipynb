{
 "cells": [
  {
   "cell_type": "code",
   "execution_count": 1,
   "id": "e26df66d",
   "metadata": {},
   "outputs": [],
   "source": [
    "import os\n",
    "import tushare as ts\n",
    "import pickle\n",
    "import pandas as pd\n",
    "import numpy as np"
   ]
  },
  {
   "cell_type": "code",
   "execution_count": 2,
   "id": "6fbf3210",
   "metadata": {},
   "outputs": [],
   "source": [
    "def get_data(tickers, START_DATE, END_DATE, filename='data.pk', token='f5f8a1adb5cae8459b6ef2c43a10a528fd040cb0dc1fa44da610a83b', ):\n",
    "    \"\"\"\n",
    "    根据股票的ticker，生成包含所需信息的dict of dataframe\n",
    "    :param \n",
    "        codes: list of str，股票代码，e.g. '600536.SH'\n",
    "        filename: 默认为data.pk, 根据任务修改名称\n",
    "        token: 赋予默认值，原则上不需要更新\n",
    "    :body\n",
    "        目前只根据有无对应ticker来判断，没有包括START_DATE\n",
    "    :return: 包含股票信息的Data, dict (key: ticker, value: dataframe)\n",
    "    \"\"\"\n",
    "    # 打开本地pickle数据\n",
    "    Data = dict()\n",
    "    if filename in os.listdir():\n",
    "        with open(filename, 'rb') as f:\n",
    "            Data = pickle.load(f)\n",
    "    # 查询哪些数据需要下载\n",
    "    old_keys = Data.keys()\n",
    "    todo_keys = [ticker for ticker in tickers if ticker not in old_keys]\n",
    "    print('To do: ', todo_keys)\n",
    "    if len(todo_keys) == 0: return Data\n",
    "    # 获取原始的股票信息dataframe\n",
    "    ts.set_token(token)\n",
    "    for code in todo_keys:\n",
    "        try:\n",
    "            info_df = ts.pro_bar(ts_code=code, adj=ADJ, start_date=START_DATE, end_date=END_DATE)\n",
    "            info_df.index = pd.to_datetime(info_df['trade_date'])\n",
    "            Data[code] = info_df.sort_index(ascending=True)\n",
    "        except:\n",
    "            print('Error in retrieving ', code, ' data...')\n",
    "            continue\n",
    "    # 创建或更新本地pickle数据\n",
    "    with open(filename, 'wb') as f:\n",
    "        pickle.dump(Data, f)\n",
    "        \n",
    "    return Data\n",
    "\n",
    "def get_tradeDates(start_date, end_date):\n",
    "    tradeCal = pro.trade_cal(exchange='', start_date=start_date, end_date=end_date)\n",
    "    tradeDates = pd.to_datetime(tradeCal[tradeCal['is_open']==1]['cal_date']).reset_index(drop=True)\n",
    "    return tradeDates"
   ]
  },
  {
   "cell_type": "code",
   "execution_count": 3,
   "id": "0cfc2a2b",
   "metadata": {},
   "outputs": [],
   "source": [
    "class TradeRequest:\n",
    "    def __init__(self, timestamp, ticker, qty):\n",
    "        self.timestamp = timestamp\n",
    "        self.ticker = ticker\n",
    "        self.qty = qty\n",
    "        \n",
    "    def __str__(self):\n",
    "        return str(self.timestamp) + \"  \" + self.ticker + \"  \" + str(self.qty)\n",
    "    \n",
    "    def get(self):\n",
    "        return (self.timestamp, self.ticker, self.qty)"
   ]
  },
  {
   "cell_type": "code",
   "execution_count": 4,
   "id": "8334ce21",
   "metadata": {},
   "outputs": [],
   "source": [
    "class Instrument:\n",
    "    def __init__(self, ticker):\n",
    "        # 最基本的信息\n",
    "        self.ticker = ticker\n",
    "        self.position = 0\n",
    "        self.lastPrice = 0\n",
    "        self.value = 0\n",
    "        self.timestamp = np.nan\n",
    "        # 更多的信息\n",
    "        #self.yesterday = {'O':np.nan,'H':np.nan,'L':np.nan,'C':np.nan}\n",
    "        #self.today = {'O':np.nan,'H':np.nan,'L':np.nan,'C':np.nan}\n",
    "        self.isTradable = True\n",
    "        #self.cost = 0\n",
    "        #self.unrealized_pnl = 0\n",
    "        #self.realized_pnl = 0\n",
    "        # 历史记录\n",
    "        self.records = []\n",
    "\n",
    "    def __update_value(self):\n",
    "        self.value = self.position * self.lastPrice\n",
    "    \n",
    "    def update_lastPrice(self, val, timestamp, isTradable):\n",
    "        '''\n",
    "        used in WATCHLIST: update the latest price\n",
    "        '''\n",
    "        self.lastPrice = val\n",
    "        self.timestamp = timestamp\n",
    "        self.isTradable = isTradable\n",
    "    \n",
    "    def retrieve_from_watchlist(self, rhs):\n",
    "        '''\n",
    "        used in Portfolio class\n",
    "        update the prices of instruments in the portfolio from the WATCHLIST\n",
    "        '''\n",
    "        self.lastPrice = rhs.lastPrice\n",
    "        self.timestamp = rhs.timestamp\n",
    "        self.isTradable = rhs.isTradable\n",
    "        self.__update_value()\n",
    "        \n",
    "    def change_position(self, qty, datetime):\n",
    "        '''\n",
    "        Intended to be private; only called by Portfolio objects\n",
    "        '''\n",
    "        self.position = self.position + qty\n",
    "        self.__update_value()\n",
    "        self.records.append((datetime, qty, self.lastPrice))\n",
    "        \n",
    "    def snapshot(self):\n",
    "        return pd.DataFrame({\n",
    "            'ticker':[self.ticker],\n",
    "            'position':[self.position],\n",
    "            'lastPrice':[self.lastPrice],\n",
    "            #'pnl':[self.unrealized_pnl]\n",
    "        })"
   ]
  },
  {
   "cell_type": "code",
   "execution_count": 5,
   "id": "a4802f61",
   "metadata": {},
   "outputs": [],
   "source": [
    "class WATCHLIST:\n",
    "    def __init__(self, timestamp, src):\n",
    "        self.timestamp = timestamp\n",
    "        self.instruments = dict()\n",
    "        self.src = src # src can be either dataframe (localfile) or url (another service)\n",
    "        \n",
    "    def add(self, ticker):\n",
    "        self.instruments[ticker] = Instrument(ticker)\n",
    "        \n",
    "    def request_data(self, ticker, timestamp):\n",
    "        # private，由update调用\n",
    "        # 可以根据src来源，用不同的方法调取数据\n",
    "        return self.src[ticker].loc[timestamp]\n",
    "    \n",
    "    def update(self, timestamp):\n",
    "        # 理论上是可以选择直接抓取此时最新的数据，或输入时间选择历史数据\n",
    "        # 现在就直接输入下一刻的时间\n",
    "        self.timestamp = timestamp\n",
    "        for ticker, ins in self.instruments.items():\n",
    "            try:\n",
    "                sub = self.request_data(ticker, timestamp)\n",
    "                ins.update_lastPrice(sub.close, timestamp, isTradable=True)\n",
    "            except:\n",
    "                ins.update_lastPrice(ins.lastPrice, timestamp, isTradable=False)\n",
    "    "
   ]
  },
  {
   "cell_type": "code",
   "execution_count": 6,
   "id": "933d2c5d",
   "metadata": {},
   "outputs": [],
   "source": [
    "class Portfolio:\n",
    "    def __init__(self, name, initCash):\n",
    "        self.name = name\n",
    "        self.cash = initCash\n",
    "        self.instruments = dict()\n",
    "        self.totalValue = initCash\n",
    "        self.totalValues = []\n",
    "        self.datetimes = []\n",
    "    \n",
    "    def update_instruments(self, rhs):\n",
    "        '''\n",
    "        A wrapper function that calls instrument.retrieve_from_watchlist(...)\n",
    "        Also updates totalValue\n",
    "        '''\n",
    "        self.totalValue = self.cash\n",
    "        for ticker, ins in self.instruments.items():\n",
    "            self.instruments[ticker].retrieve_from_watchlist(rhs[ticker])\n",
    "            self.totalValue += self.instruments[ticker].value\n",
    "        self.totalValues.append(self.totalValue)\n",
    "        \n",
    "    def update_position(self, tradeRequest, rhs):\n",
    "        '''\n",
    "        input a trade request, assume it's successful\n",
    "        A wrapper function that call instrument.change_position(qty, timestamp)\n",
    "        '''\n",
    "        timestamp, ticker, qty = tradeRequest.get()\n",
    "        if self.instruments.get(ticker) == None:\n",
    "            self.instruments[ticker] = rhs[ticker]\n",
    "        if not self.instruments[ticker].isTradable:\n",
    "            print('The instrument is not tradable now:', timestamp, ',', ticker, ',', qty)\n",
    "            return False\n",
    "        self.instruments[ticker].change_position(qty, timestamp)\n",
    "        self.cash -= qty * self.instruments[ticker].lastPrice\n",
    "        return True\n",
    "        \n",
    "    def add_instrument(self, ticker, rhs, position=0):\n",
    "        '''\n",
    "        Add an instrument;\n",
    "        Intended to have position 0 when selecting the stock and waiting for the best timing\n",
    "        Also allows to have nonzero position, meaning owning a stock from other sources\n",
    "        '''\n",
    "        ins = Instrument(ticker)\n",
    "        ins.retrieve_from_watchlist(rhs[ticker])\n",
    "        self.instruments[ticker] = ins\n",
    "        "
   ]
  },
  {
   "cell_type": "code",
   "execution_count": 7,
   "id": "b4b4a6a9",
   "metadata": {},
   "outputs": [],
   "source": [
    "def rebalance_EW(portfolio, datetime, rhs):\n",
    "    # 把总资金分配给每一个股票\n",
    "    each = portfolio.totalValue / len(portfolio.instruments)\n",
    "    # 计算得出目标要达到多少股\n",
    "    targets = np.array([int(each / ins.lastPrice // 100 * 100) for ins in portfolio.instruments.values()])\n",
    "    # 计算要买/卖多少股\n",
    "    targets -= np.array([ins.position for ins in portfolio.instruments.values()])\n",
    "    todo_list = []\n",
    "    # for range in iterables\n",
    "    # targets 也是从portfolio.instruments 得出来的，确保长度一致\n",
    "    for ((ticker, _), target) in list(zip(portfolio.instruments.items(), targets)):\n",
    "        if target != 0:\n",
    "            isSuccess = p1.update_position(TradeRequest(today, ticker, target), rhs)\n",
    "            if not isSuccess:\n",
    "                todo_list.append(TradeRequest(today, ticker, target))\n",
    "    return todo_list # 如果非交易日，portfolio调用instrument的函数时失败，返回待完成的交易留到明天"
   ]
  },
  {
   "cell_type": "code",
   "execution_count": 8,
   "id": "b80511be",
   "metadata": {},
   "outputs": [],
   "source": [
    "def simple_trade(portfolio, tradeRequest, rhs):\n",
    "    return portfolio.update_position(tradeRequest, rhs)"
   ]
  },
  {
   "cell_type": "code",
   "execution_count": 9,
   "id": "43530478",
   "metadata": {},
   "outputs": [],
   "source": [
    "pd.set_option('display.max_columns', None)  # 显示所有列\n",
    "\n",
    "START_DATE = '20160101'  # 开始日期\n",
    "END_DATE = '20211010'  # 结束日期\n",
    "ADJ = 'qfq'  # 前复权\n",
    "pro = ts.pro_api()"
   ]
  },
  {
   "cell_type": "code",
   "execution_count": 10,
   "id": "160cb392",
   "metadata": {},
   "outputs": [],
   "source": [
    "# 名称、code等数据\n",
    "stock_basic = pro.stock_basic(exchange='', list_status='L', fields='ts_code,symbol,name,area,industry,list_date')\n",
    "# 手动选择10个股票\n",
    "code_list = ['600096', '600328', '000852', '601118', '603019', '600792', '300369', '300188', '600536', '000878',\n",
    "             '600456', '600683']\n",
    "StockList_basic = stock_basic[stock_basic['symbol'].apply(lambda s: s in code_list)].reset_index(drop=True)\n",
    "TS_CODE_POOL = list(StockList_basic.ts_code)"
   ]
  },
  {
   "cell_type": "code",
   "execution_count": 11,
   "id": "82864a02",
   "metadata": {},
   "outputs": [
    {
     "name": "stdout",
     "output_type": "stream",
     "text": [
      "To do:  []\n"
     ]
    }
   ],
   "source": [
    "DATA = get_data(TS_CODE_POOL, START_DATE, END_DATE)\n",
    "TRADE_DAYS = get_tradeDates(START_DATE, END_DATE)"
   ]
  },
  {
   "cell_type": "code",
   "execution_count": 12,
   "id": "b6e388fd",
   "metadata": {},
   "outputs": [],
   "source": [
    "#INIT_AMOUNT = 5\n",
    "#INIT_CASH = 200000 / INIT_AMOUNT\n",
    "\n",
    "#JUDGE_TRADE_DAY_DF_LIST = []"
   ]
  },
  {
   "cell_type": "code",
   "execution_count": 13,
   "id": "9d69bfe1",
   "metadata": {},
   "outputs": [],
   "source": [
    "# 时间推移，第一时间更新watchlist里instruments的价格；并且标示今日是否可交易\n",
    "TODOLIST = [] # 昨日未完成的tradeRequest\n",
    "\n",
    "p1 = Portfolio('buy and hold', 100000)\n",
    "watchlist = WATCHLIST(TRADE_DAYS[0], src=DATA)\n",
    "\n",
    "for ticker in TS_CODE_POOL:\n",
    "    watchlist.add(ticker)"
   ]
  },
  {
   "cell_type": "code",
   "execution_count": 14,
   "id": "c9ba7a76",
   "metadata": {},
   "outputs": [],
   "source": [
    "for today in TRADE_DAYS:\n",
    "    watchlist.update(today)\n",
    "    p1.update_instruments(watchlist.instruments)\n",
    "    \n",
    "    # 先解决昨日不成功的交易请求\n",
    "    tmpTODO = []\n",
    "    while len(TODOLIST) > 0:\n",
    "        tradeRequest = TODOLIST.pop()\n",
    "        isSuccessful = simple_trade(p1, tradeRequest, rhs=WATCHLIST_dict)\n",
    "        if not isSuccessful: \n",
    "            tmpTODO.append(tradeRequest)\n",
    "    TODOLIST.extend(tmpTODO)\n",
    "    \n",
    "    # buy and hold\n",
    "    if today == TRADE_DAYS[0]:\n",
    "        #for ticker in list(DATA.keys()):\n",
    "        #    p1.add_instrument(ticker, rhs=watchlist.instruments)\n",
    "        p1.add_instrument('300188.SZ', rhs=watchlist.instruments)\n",
    "        res = rebalance_EW(p1, today, watchlist.instruments)\n",
    "        TODOLIST.extend(res)"
   ]
  },
  {
   "cell_type": "code",
   "execution_count": 15,
   "id": "a4d59f51",
   "metadata": {},
   "outputs": [
    {
     "data": {
      "text/plain": [
       "21.160000000003492"
      ]
     },
     "execution_count": 15,
     "metadata": {},
     "output_type": "execute_result"
    }
   ],
   "source": [
    "# sanity check\n",
    "# 只有一支股票，ew带来的是满仓，cash应该剩下很少\n",
    "p1.cash"
   ]
  },
  {
   "cell_type": "code",
   "execution_count": 16,
   "id": "30af327b",
   "metadata": {},
   "outputs": [
    {
     "data": {
      "text/plain": [
       "[(Timestamp('2016-01-04 00:00:00'), 3600, 27.7719)]"
      ]
     },
     "execution_count": 16,
     "metadata": {},
     "output_type": "execute_result"
    }
   ],
   "source": [
    "p1.instruments['300188.SZ'].records"
   ]
  },
  {
   "cell_type": "code",
   "execution_count": 17,
   "id": "0a41a4f9",
   "metadata": {},
   "outputs": [
    {
     "data": {
      "text/plain": [
       "0       100000.00\n",
       "1        90030.88\n",
       "2        92155.96\n",
       "3        82953.64\n",
       "4        78637.24\n",
       "          ...    \n",
       "1396     60249.16\n",
       "1397     60177.16\n",
       "1398     58701.16\n",
       "1399     59385.16\n",
       "1400     60393.16\n",
       "Length: 1401, dtype: float64"
      ]
     },
     "execution_count": 17,
     "metadata": {},
     "output_type": "execute_result"
    }
   ],
   "source": [
    "pd.Series(p1.totalValues)"
   ]
  },
  {
   "cell_type": "code",
   "execution_count": 18,
   "id": "e5e69f11",
   "metadata": {},
   "outputs": [
    {
     "data": {
      "text/plain": [
       "0       100000.00\n",
       "1        90030.88\n",
       "2        92155.96\n",
       "3        82953.64\n",
       "4        78637.24\n",
       "          ...    \n",
       "1395     59385.16\n",
       "1396     60393.16\n",
       "1397     60933.16\n",
       "1398     60141.16\n",
       "1399     60393.16\n",
       "Length: 1400, dtype: float64"
      ]
     },
     "execution_count": 18,
     "metadata": {},
     "output_type": "execute_result"
    }
   ],
   "source": [
    "pd.Series(3600 * DATA['300188.SZ'].close.values + p1.cash)"
   ]
  }
 ],
 "metadata": {
  "kernelspec": {
   "display_name": "Python 3 (ipykernel)",
   "language": "python",
   "name": "python3"
  },
  "language_info": {
   "codemirror_mode": {
    "name": "ipython",
    "version": 3
   },
   "file_extension": ".py",
   "mimetype": "text/x-python",
   "name": "python",
   "nbconvert_exporter": "python",
   "pygments_lexer": "ipython3",
   "version": "3.9.5"
  }
 },
 "nbformat": 4,
 "nbformat_minor": 5
}
